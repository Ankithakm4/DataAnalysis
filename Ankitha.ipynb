{
 "cells": [
  {
   "cell_type": "markdown",
   "id": "bd27d2d9-a350-4617-98ce-061fd188fad5",
   "metadata": {},
   "source": [
    "FUNCTION"
   ]
  },
  {
   "cell_type": "code",
   "execution_count": 13,
   "id": "dbf45ae5-74dc-47c0-bdf8-d8b9a66f5ca7",
   "metadata": {},
   "outputs": [],
   "source": [
    "def addition(a,b):\n",
    "    return a+b"
   ]
  },
  {
   "cell_type": "raw",
   "id": "1e73e78e-5546-4b98-8dd9-e95aedfa5870",
   "metadata": {},
   "source": [
    "addition(4,6)"
   ]
  },
  {
   "cell_type": "code",
   "execution_count": 54,
   "id": "a8d6a096-eaa6-48c9-97dd-b8480dda7e06",
   "metadata": {},
   "outputs": [],
   "source": [
    "def tax(sal):\n",
    "    if sal>0 and sal<10000:\n",
    "        return 0.05*sal\n",
    "    elif sal>=10000 and sal<50000:\n",
    "        return 0.1*sal\n",
    "         \n",
    "    elif sal>=50000 and sal<200000:\n",
    "       return 0.15*sal\n",
    "    elif sal>=200000:\n",
    "       return 0.20*sal\n",
    "    else:\n",
    "        return \"invalid\""
   ]
  },
  {
   "cell_type": "code",
   "execution_count": 14,
   "id": "dcab38b5-17db-4383-abe2-a443fbf37b57",
   "metadata": {},
   "outputs": [
    {
     "name": "stdin",
     "output_type": "stream",
     "text": [
      "enter the sal 5000\n"
     ]
    },
    {
     "ename": "NameError",
     "evalue": "name 'tax' is not defined",
     "output_type": "error",
     "traceback": [
      "\u001b[1;31m---------------------------------------------------------------------------\u001b[0m",
      "\u001b[1;31mNameError\u001b[0m                                 Traceback (most recent call last)",
      "Cell \u001b[1;32mIn[14], line 2\u001b[0m\n\u001b[0;32m      1\u001b[0m sal\u001b[38;5;241m=\u001b[39m\u001b[38;5;28mfloat\u001b[39m(\u001b[38;5;28minput\u001b[39m(\u001b[38;5;124m\"\u001b[39m\u001b[38;5;124menter the sal\u001b[39m\u001b[38;5;124m\"\u001b[39m))\n\u001b[1;32m----> 2\u001b[0m tax1\u001b[38;5;241m=\u001b[39mtax(sal)\n\u001b[0;32m      3\u001b[0m \u001b[38;5;28mprint\u001b[39m(tax1)\n",
      "\u001b[1;31mNameError\u001b[0m: name 'tax' is not defined"
     ]
    }
   ],
   "source": [
    "sal=float(input(\"enter the sal\"))\n",
    "tax1=tax(sal)\n",
    "print(tax1)"
   ]
  },
  {
   "cell_type": "code",
   "execution_count": null,
   "id": "41b0120d-f492-49f5-b985-4f927a87ff01",
   "metadata": {},
   "outputs": [],
   "source": [
    "Loops"
   ]
  },
  {
   "cell_type": "code",
   "execution_count": null,
   "id": "f937056f-c465-4a6f-9f93-0cc38e5470c6",
   "metadata": {},
   "outputs": [],
   "source": [
    "w=[67,45,23,50]\n",
    "h=[160,127,140,187]\n",
    "for i,j in zip(w,h):\n",
    "    print(i/(j*j))"
   ]
  },
  {
   "cell_type": "code",
   "execution_count": null,
   "id": "5506dd97-6012-4a81-828c-2ef987b3e929",
   "metadata": {},
   "outputs": [],
   "source": [
    "for i in range(len(w)):\n",
    "    print(w[i]/(h[i]*h[i]))"
   ]
  },
  {
   "cell_type": "markdown",
   "id": "11612845-eefc-42c7-a29e-1bf9cb34d202",
   "metadata": {},
   "source": [
    "# Numpy"
   ]
  },
  {
   "cell_type": "code",
   "execution_count": null,
   "id": "0d88d847-55c3-40e2-99ff-abdec6ed465c",
   "metadata": {},
   "outputs": [],
   "source": [
    "lst1=[10,20,45,70]\n",
    "lst2=[30,40,70,90]\n",
    "print(lst1+lst2)"
   ]
  },
  {
   "cell_type": "code",
   "execution_count": 29,
   "id": "45512da9-3091-45e5-8d1d-bb96488dac3d",
   "metadata": {},
   "outputs": [
    {
     "name": "stdout",
     "output_type": "stream",
     "text": [
      "[ 40  60 115 160]\n"
     ]
    }
   ],
   "source": [
    "import numpy as np\n",
    "ar1=np.array([10,20,45,70])\n",
    "ar2=np.array([30,40,70,90])\n",
    "print(ar1+ar2)"
   ]
  },
  {
   "cell_type": "code",
   "execution_count": null,
   "id": "4f16d691-30f0-4c48-bc83-355befa394ba",
   "metadata": {},
   "outputs": [],
   "source": [
    "arr1=np.zeros((2,3))\n",
    "print(arr1)"
   ]
  },
  {
   "cell_type": "code",
   "execution_count": null,
   "id": "4f8daeaa-2d80-4187-bc09-57b1b90f938c",
   "metadata": {},
   "outputs": [],
   "source": [
    "arr2=np.ones((2,3))\n",
    "print(arr2)"
   ]
  },
  {
   "cell_type": "code",
   "execution_count": null,
   "id": "0f94f1da-8c8f-4602-8d40-d71e54c73ff5",
   "metadata": {},
   "outputs": [],
   "source": [
    "arr3=np.eye(3)\n",
    "print(arr3)"
   ]
  },
  {
   "cell_type": "code",
   "execution_count": null,
   "id": "74fe6c39-79e1-4dd6-ab87-4b90bc8bfff4",
   "metadata": {},
   "outputs": [],
   "source": [
    "arr4=np.array([[3,4,5],[9,5,0]])\n",
    "print(arr4)\n",
    "print(np.ndim(arr4))\n"
   ]
  },
  {
   "cell_type": "code",
   "execution_count": null,
   "id": "74d69e18-1ec7-44fa-8b2f-49c55b2eb8a9",
   "metadata": {},
   "outputs": [],
   "source": [
    "arr5=np.array([6,7,8,9,9,4,2,1])"
   ]
  },
  {
   "cell_type": "code",
   "execution_count": null,
   "id": "ade9fc30-6422-4eb8-9786-6184992fd998",
   "metadata": {},
   "outputs": [],
   "source": [
    "arr5.reshape(4,2)"
   ]
  },
  {
   "cell_type": "code",
   "execution_count": null,
   "id": "f44c587f-0e89-4080-866d-d265e9c7e309",
   "metadata": {},
   "outputs": [],
   "source": [
    "arr6=np.array([6,7,8,9,9,4,2,1])"
   ]
  },
  {
   "cell_type": "code",
   "execution_count": null,
   "id": "f25d1948-2a90-4081-bd3e-396db759bbf8",
   "metadata": {},
   "outputs": [],
   "source": [
    "arr6.resize(4,2)\n"
   ]
  },
  {
   "cell_type": "code",
   "execution_count": null,
   "id": "5b9b8aa1-d8f7-4abc-93e8-a2bd75e6fd1d",
   "metadata": {},
   "outputs": [],
   "source": [
    "arr6"
   ]
  },
  {
   "cell_type": "code",
   "execution_count": null,
   "id": "81ce839f-4dec-4a86-9499-029819e1a698",
   "metadata": {},
   "outputs": [],
   "source": [
    "arr6=np.arange(10,50).reshape(8,5)\n",
    "print(arr6)\n",
    "print(np.shape(arr6))"
   ]
  },
  {
   "cell_type": "code",
   "execution_count": null,
   "id": "9d5a78cf-3b13-4da8-8c0b-48c71cd426ea",
   "metadata": {},
   "outputs": [],
   "source": [
    "arr7=np.arange(8,1001,8)\n",
    "print(arr7)\n",
    "print(np.shape(arr7))\n"
   ]
  },
  {
   "cell_type": "code",
   "execution_count": null,
   "id": "66ed1368-03f7-47d6-9bf8-1a72acd0b1cd",
   "metadata": {},
   "outputs": [],
   "source": [
    "mult_seven=np.arange(7,701,7)\n",
    "print(mult_seven)"
   ]
  },
  {
   "cell_type": "code",
   "execution_count": null,
   "id": "065fed4a-56e2-45b2-a52e-b71fc3739f7d",
   "metadata": {},
   "outputs": [],
   "source": [
    "arr9=np.linspace(2,8,6)\n",
    "print(arr9)"
   ]
  },
  {
   "cell_type": "code",
   "execution_count": null,
   "id": "1c6e43f2-d771-45f8-bd84-93ea160ec250",
   "metadata": {},
   "outputs": [],
   "source": [
    "arr10=np.array([[[1,2,3],[6,7,8]],[[4,5,2],[3,6,0]]])\n",
    "print(arr10)\n",
    "print(np.shape(arr10))\n",
    "print(np.ndim(arr10))"
   ]
  },
  {
   "cell_type": "code",
   "execution_count": null,
   "id": "9bef15c7-76f4-4744-a774-947d70196eeb",
   "metadata": {},
   "outputs": [],
   "source": []
  },
  {
   "cell_type": "code",
   "execution_count": null,
   "id": "b6ee5c56-13cb-4d4c-a8a7-cdfe6b1d3eb2",
   "metadata": {},
   "outputs": [],
   "source": [
    "mat1=np.array([9,4,6,7]).reshape(2,2)\n",
    "mat2=np.array([1,2,3,4]).reshape(2,2)\n",
    "print(\"matrix 1:\\n\",mat1)\n",
    "print(\"matrix 2:\\n\",mat2)"
   ]
  },
  {
   "cell_type": "code",
   "execution_count": null,
   "id": "30d24960-d626-41ea-a474-3ae6a60bb0ed",
   "metadata": {},
   "outputs": [],
   "source": [
    "print(mat1*mat2)"
   ]
  },
  {
   "cell_type": "code",
   "execution_count": null,
   "id": "f3b1f6cb-65fa-48ce-b832-9cbb322dec89",
   "metadata": {},
   "outputs": [],
   "source": [
    "print(mat1.dot(mat2))"
   ]
  },
  {
   "cell_type": "code",
   "execution_count": null,
   "id": "2dcfc3e1-d970-420d-a1af-69c9c74adc6b",
   "metadata": {},
   "outputs": [],
   "source": [
    "print(np.linalg.inv(mat1))"
   ]
  },
  {
   "cell_type": "code",
   "execution_count": null,
   "id": "6e90faca-cb18-4518-a4b8-8ed8b72852d4",
   "metadata": {},
   "outputs": [],
   "source": [
    "print(np.linalg.inv(mat2))"
   ]
  },
  {
   "cell_type": "markdown",
   "id": "1443eb96-3368-42d3-8878-5ee2cac8c548",
   "metadata": {},
   "source": [
    "statistics"
   ]
  },
  {
   "cell_type": "code",
   "execution_count": null,
   "id": "7dcf1978-936a-4d1f-a8fd-8be203d5e70d",
   "metadata": {},
   "outputs": [],
   "source": [
    "arr1=np.array([90,45,34,16,23,12])\n",
    "print(np.mean(arr1))"
   ]
  },
  {
   "cell_type": "code",
   "execution_count": null,
   "id": "e2ca37f3-d5de-450d-8a6d-02a6fbd75838",
   "metadata": {},
   "outputs": [],
   "source": [
    "print(np.median(arr1))"
   ]
  },
  {
   "cell_type": "markdown",
   "id": "0e017d01-d95a-47e5-a106-451dc524459c",
   "metadata": {},
   "source": [
    "varriance"
   ]
  },
  {
   "cell_type": "markdown",
   "id": "a8c21e3a-4486-47fb-b918-c743308b6f19",
   "metadata": {},
   "source": [
    "trigonometry"
   ]
  },
  {
   "cell_type": "code",
   "execution_count": null,
   "id": "cedc000c-75c4-4d5a-aea5-b35d24f90f3c",
   "metadata": {},
   "outputs": [],
   "source": [
    "print(np.pi)"
   ]
  },
  {
   "cell_type": "code",
   "execution_count": null,
   "id": "71e8303d-d3f1-4abd-8930-847871993504",
   "metadata": {},
   "outputs": [],
   "source": [
    "rad=[90,30,45]\n",
    "for i in rad:\n",
    "    print(np.sin(i))"
   ]
  },
  {
   "cell_type": "code",
   "execution_count": null,
   "id": "bb67cff8-104e-42b2-937e-8a4964e72d20",
   "metadata": {},
   "outputs": [],
   "source": [
    "rad=[90,30,45]\n",
    "for i in rad:\n",
    "    print(np.cos(i))"
   ]
  },
  {
   "cell_type": "code",
   "execution_count": null,
   "id": "63e48c1c-793c-4c2d-a28e-f16234dfe6bd",
   "metadata": {},
   "outputs": [],
   "source": [
    "rad=[90,30,45]\n",
    "for i in rad:\n",
    "    print(np.tan(i))"
   ]
  },
  {
   "cell_type": "code",
   "execution_count": null,
   "id": "d2a51884-0667-4c62-bc85-a89413a3776d",
   "metadata": {},
   "outputs": [],
   "source": [
    "deg=[np.pi/4,np.pi/2,np.pi/3]\n",
    "for i in deg:\n",
    "    print(np.sin(i))"
   ]
  },
  {
   "cell_type": "markdown",
   "id": "0ed847bb-f7ed-4d9d-83e0-d58a99302281",
   "metadata": {},
   "source": [
    "Arithematic operations"
   ]
  },
  {
   "cell_type": "code",
   "execution_count": null,
   "id": "0ea7dc99-86b0-4e5f-95c1-fe23f27b1ebc",
   "metadata": {},
   "outputs": [],
   "source": [
    "a=np.array([8,9,1])\n",
    "b=np.array([2,5,8])\n",
    "print(np.sum((a,b)))"
   ]
  },
  {
   "cell_type": "code",
   "execution_count": null,
   "id": "92088c6e-adef-4b35-a84d-d9ae439aaf60",
   "metadata": {},
   "outputs": [],
   "source": [
    "s1=np.array([90,23,40,12])\n",
    "s2=np.array([10,2,11,5])\n",
    "print(np.mod(s1,s2))\n"
   ]
  },
  {
   "cell_type": "code",
   "execution_count": null,
   "id": "bc5902fa-bde7-479e-a47a-aed43851bb64",
   "metadata": {},
   "outputs": [],
   "source": [
    "print(np.divmod(s1,s2))"
   ]
  },
  {
   "cell_type": "code",
   "execution_count": null,
   "id": "e5a159ab-133d-4142-a743-18d703bbf600",
   "metadata": {},
   "outputs": [],
   "source": [
    "A=np.array([56,78,12,32,111,109])\n",
    "print(max(A))"
   ]
  },
  {
   "cell_type": "markdown",
   "id": "1b736915-4760-481f-a55a-7ef23b22b13d",
   "metadata": {},
   "source": [
    "sorting"
   ]
  },
  {
   "cell_type": "code",
   "execution_count": null,
   "id": "d0391f28-f898-4479-bdbe-45bb2f90c23b",
   "metadata": {},
   "outputs": [],
   "source": [
    "B=np.array([90,12,45,1,89,98])\n",
    "B.sort()\n",
    "print(B)"
   ]
  },
  {
   "cell_type": "code",
   "execution_count": null,
   "id": "d51b17fa-913d-4834-a627-2a23c7d65d58",
   "metadata": {},
   "outputs": [],
   "source": [
    "c=np.array([90,12,45,1,89,98])\n",
    "D=sorted(c)\n",
    "print(c)\n",
    "print(D)"
   ]
  },
  {
   "cell_type": "markdown",
   "id": "4d84c06b-9414-478b-8eb4-d16219393daf",
   "metadata": {},
   "source": [
    "Rounding"
   ]
  },
  {
   "cell_type": "code",
   "execution_count": null,
   "id": "6ae7aa4f-eadd-4c46-9184-5ad0bd86eca8",
   "metadata": {},
   "outputs": [],
   "source": [
    "s2=np.array([9.1,-7.8])\n",
    "print(np.ceil(s2))"
   ]
  },
  {
   "cell_type": "code",
   "execution_count": null,
   "id": "76ece461-3b50-4f87-9624-ea842d97f849",
   "metadata": {},
   "outputs": [],
   "source": [
    "print(np.floor(s2))"
   ]
  },
  {
   "cell_type": "markdown",
   "id": "c68400d8-07bd-41c0-b802-e6de614ab925",
   "metadata": {},
   "source": [
    "Random module"
   ]
  },
  {
   "cell_type": "code",
   "execution_count": 20,
   "id": "6c3bd223-95e7-43da-964b-170490c78d8d",
   "metadata": {},
   "outputs": [],
   "source": [
    "import numpy.random as rd"
   ]
  },
  {
   "cell_type": "code",
   "execution_count": 21,
   "id": "315d1846-3bd2-44ec-a53d-7cc0eeb662dd",
   "metadata": {},
   "outputs": [
    {
     "name": "stdout",
     "output_type": "stream",
     "text": [
      "[0.75793132 0.68147924]\n"
     ]
    }
   ],
   "source": [
    "ran1=rd.rand(2)\n",
    "print(ran1)"
   ]
  },
  {
   "cell_type": "code",
   "execution_count": 22,
   "id": "ef01c50e-7382-43ee-a495-9f3aec2b33a0",
   "metadata": {},
   "outputs": [
    {
     "name": "stdout",
     "output_type": "stream",
     "text": [
      "4\n"
     ]
    }
   ],
   "source": [
    "ran2=rd.randint(5)\n",
    "print(ran2)"
   ]
  },
  {
   "cell_type": "code",
   "execution_count": 27,
   "id": "94c7e411-0c51-40ba-bc9b-70f5e24fdee9",
   "metadata": {},
   "outputs": [
    {
     "name": "stdout",
     "output_type": "stream",
     "text": [
      "[[[1 2 3]\n",
      "  [4 4 2]\n",
      "  [2 2 1]\n",
      "  [4 0 2]\n",
      "  [3 1 0]\n",
      "  [0 4 4]\n",
      "  [2 3 0]]\n",
      "\n",
      " [[1 3 4]\n",
      "  [3 0 1]\n",
      "  [4 2 0]\n",
      "  [2 0 2]\n",
      "  [2 1 1]\n",
      "  [3 0 3]\n",
      "  [2 4 2]]\n",
      "\n",
      " [[3 4 1]\n",
      "  [0 2 4]\n",
      "  [2 0 0]\n",
      "  [3 2 1]\n",
      "  [4 1 0]\n",
      "  [3 1 1]\n",
      "  [1 4 1]]\n",
      "\n",
      " [[3 1 1]\n",
      "  [1 1 4]\n",
      "  [3 4 0]\n",
      "  [4 0 2]\n",
      "  [4 0 0]\n",
      "  [3 3 1]\n",
      "  [2 3 4]]\n",
      "\n",
      " [[3 4 2]\n",
      "  [2 2 3]\n",
      "  [0 3 0]\n",
      "  [2 2 4]\n",
      "  [3 2 1]\n",
      "  [4 1 3]\n",
      "  [2 3 2]]\n",
      "\n",
      " [[1 4 4]\n",
      "  [0 1 1]\n",
      "  [3 3 1]\n",
      "  [2 4 4]\n",
      "  [4 4 2]\n",
      "  [2 2 4]\n",
      "  [1 4 1]]]\n"
     ]
    }
   ],
   "source": [
    "ran3= rd.randint(5,size=(6,7,3))\n",
    "print(ran3)"
   ]
  },
  {
   "cell_type": "markdown",
   "id": "d81d89db-f8f4-4768-be4f-49af8704837e",
   "metadata": {},
   "source": [
    "stack"
   ]
  },
  {
   "cell_type": "code",
   "execution_count": 34,
   "id": "c29c8384-9ed5-446e-8f77-71234c4499e0",
   "metadata": {},
   "outputs": [
    {
     "name": "stdout",
     "output_type": "stream",
     "text": [
      "[[ 9  4 23]\n",
      " [ 3  4  5]]\n",
      "\n",
      "\n",
      "[[ 8  1  2]\n",
      " [33 42 51]]\n"
     ]
    }
   ],
   "source": [
    "Ar1=np.array([[9,4,23],[3,4,5]])\n",
    "Ar2=np.array([[8,1,2],[33,42,51]])\n",
    "print(Ar1)\n",
    "print(\"\\n\")\n",
    "print(Ar2)"
   ]
  },
  {
   "cell_type": "code",
   "execution_count": 36,
   "id": "bc54f269-168c-48e7-8e17-152c57fd0ae9",
   "metadata": {},
   "outputs": [
    {
     "name": "stdout",
     "output_type": "stream",
     "text": [
      "[[[ 1  2]\n",
      "  [ 3  4]]\n",
      "\n",
      " [[ 5  6]\n",
      "  [ 7  8]]\n",
      "\n",
      " [[ 9 10]\n",
      "  [11 12]]]\n"
     ]
    }
   ],
   "source": [
    "Ar3=np.arange(1,13).reshape(3,2,2)\n",
    "print(Ar3)"
   ]
  },
  {
   "cell_type": "code",
   "execution_count": 39,
   "id": "a03204d4-e53d-4a7a-96ea-d001f8555337",
   "metadata": {},
   "outputs": [
    {
     "name": "stdout",
     "output_type": "stream",
     "text": [
      "[[[ 1  5  9]\n",
      "  [ 2  6 10]]\n",
      "\n",
      " [[ 3  7 11]\n",
      "  [ 4  8 12]]]\n"
     ]
    }
   ],
   "source": [
    "Ar4=np.dstack(Ar3)\n",
    "print(Ar4)\n"
   ]
  },
  {
   "cell_type": "code",
   "execution_count": 40,
   "id": "ba57ad43-54e1-48dc-97e0-5eb086b385f6",
   "metadata": {},
   "outputs": [
    {
     "name": "stdout",
     "output_type": "stream",
     "text": [
      "9.0\n"
     ]
    }
   ],
   "source": [
    "num1=81\n",
    "num2=99\n",
    "num3=78\n",
    "print(np.sqrt(num1))"
   ]
  },
  {
   "cell_type": "code",
   "execution_count": 41,
   "id": "38244719-e1d5-4a0d-9abd-b8256d064667",
   "metadata": {},
   "outputs": [
    {
     "name": "stdout",
     "output_type": "stream",
     "text": [
      "891\n"
     ]
    }
   ],
   "source": [
    "print(np.lcm(num1,num2))"
   ]
  },
  {
   "cell_type": "code",
   "execution_count": 42,
   "id": "682ff082-20bc-4efe-b3cf-33cde52abb52",
   "metadata": {},
   "outputs": [
    {
     "name": "stdout",
     "output_type": "stream",
     "text": [
      "9\n"
     ]
    }
   ],
   "source": [
    "print(np.gcd(num1,num2))"
   ]
  },
  {
   "cell_type": "code",
   "execution_count": 43,
   "id": "37a7c8da-35d2-4565-a85f-f5e2b36fbc90",
   "metadata": {},
   "outputs": [
    {
     "name": "stdout",
     "output_type": "stream",
     "text": [
      "268335\n"
     ]
    }
   ],
   "source": [
    "AA=[45,67,89]\n",
    "print(np.lcm.reduce(AA))"
   ]
  },
  {
   "cell_type": "code",
   "execution_count": 44,
   "id": "7e7b9fac-59e6-456d-b3f1-3afa620c38e2",
   "metadata": {},
   "outputs": [
    {
     "name": "stdout",
     "output_type": "stream",
     "text": [
      "1\n"
     ]
    }
   ],
   "source": [
    "print(np.gcd.reduce(AA))"
   ]
  },
  {
   "cell_type": "code",
   "execution_count": 46,
   "id": "db0b76f3-5067-4eae-8bab-102cd9acfaad",
   "metadata": {},
   "outputs": [
    {
     "name": "stdout",
     "output_type": "stream",
     "text": [
      "[ 0  5  7 25]\n"
     ]
    }
   ],
   "source": [
    "AB=np.array([0,-5,7,-25])\n",
    "print(np.absolute(AB))"
   ]
  },
  {
   "cell_type": "markdown",
   "id": "35ebf8a5-cdef-492d-a518-59b33ed030ff",
   "metadata": {},
   "source": [
    "Logarithms"
   ]
  },
  {
   "cell_type": "code",
   "execution_count": 47,
   "id": "4f518d35-8bb1-4a5c-9a02-2c77c886dfc3",
   "metadata": {},
   "outputs": [
    {
     "name": "stdout",
     "output_type": "stream",
     "text": [
      "3.8066624897703196\n"
     ]
    }
   ],
   "source": [
    "n=45\n",
    "print(np.log(n))"
   ]
  },
  {
   "cell_type": "code",
   "execution_count": 48,
   "id": "ec3c5077-abc8-4b26-83e4-3c56588a4738",
   "metadata": {},
   "outputs": [
    {
     "name": "stdout",
     "output_type": "stream",
     "text": [
      "5.491853096329675\n"
     ]
    }
   ],
   "source": [
    "print(np.log2(n))"
   ]
  },
  {
   "cell_type": "markdown",
   "id": "56f2219e-968b-406e-a11c-7cf45b44b443",
   "metadata": {},
   "source": [
    "Set"
   ]
  },
  {
   "cell_type": "code",
   "execution_count": 49,
   "id": "ed95da54-a905-45f0-8325-e32de76b2c7e",
   "metadata": {},
   "outputs": [
    {
     "name": "stdout",
     "output_type": "stream",
     "text": [
      "[9 3 5 2 1] \n",
      "\n",
      "[4 5 2 1 3]\n"
     ]
    }
   ],
   "source": [
    "s1=np.array([9,3,5,2,1])\n",
    "s2=np.array([4,5,2,1,3])\n",
    "print(s1,\"\\n\")\n",
    "print(s2)"
   ]
  },
  {
   "cell_type": "code",
   "execution_count": 51,
   "id": "c34a1f48-09eb-4deb-838b-d76d30360b27",
   "metadata": {},
   "outputs": [
    {
     "name": "stdout",
     "output_type": "stream",
     "text": [
      "[1 2 3 4 5 9]\n"
     ]
    }
   ],
   "source": [
    "print(np.union1d(s1,s2))"
   ]
  },
  {
   "cell_type": "code",
   "execution_count": 53,
   "id": "3b7a98f5-6d74-445a-9fc3-1368d191e472",
   "metadata": {},
   "outputs": [
    {
     "name": "stdout",
     "output_type": "stream",
     "text": [
      "[1 2 3 5]\n"
     ]
    }
   ],
   "source": [
    "print(np.intersect1d(s1,s2))"
   ]
  },
  {
   "cell_type": "code",
   "execution_count": 55,
   "id": "5baff3af-dcf6-401a-b669-599bf7597a7c",
   "metadata": {},
   "outputs": [
    {
     "name": "stdout",
     "output_type": "stream",
     "text": [
      "[9]\n"
     ]
    }
   ],
   "source": [
    "print(np.setdiff1d(s1,s2))"
   ]
  },
  {
   "cell_type": "markdown",
   "id": "b10bf794-5df1-474c-b5bd-a0d4e64fed76",
   "metadata": {},
   "source": [
    "Search"
   ]
  },
  {
   "cell_type": "code",
   "execution_count": 58,
   "id": "ae48d6cf-d427-4547-9589-2d66b7cc9f46",
   "metadata": {},
   "outputs": [
    {
     "name": "stdout",
     "output_type": "stream",
     "text": [
      "(array([], dtype=int64),)\n"
     ]
    }
   ],
   "source": [
    "cal1=np.array([44,33,12,67,19])\n",
    "Index=np.where(cal1%2==2)\n",
    "print(Index)"
   ]
  },
  {
   "cell_type": "code",
   "execution_count": 67,
   "id": "21b9931e-3c31-466b-b04d-b892b4d538ce",
   "metadata": {},
   "outputs": [
    {
     "name": "stdout",
     "output_type": "stream",
     "text": [
      "(array([0, 4, 5], dtype=int64),)\n"
     ]
    }
   ],
   "source": [
    "cal2=np.array([45,33,21,50,60,15])\n",
    "Index=np.where((cal2%3==0)&(cal2%5==0))\n",
    "print(Index)"
   ]
  }
 ],
 "metadata": {
  "kernelspec": {
   "display_name": "Python 3 (ipykernel)",
   "language": "python",
   "name": "python3"
  },
  "language_info": {
   "codemirror_mode": {
    "name": "ipython",
    "version": 3
   },
   "file_extension": ".py",
   "mimetype": "text/x-python",
   "name": "python",
   "nbconvert_exporter": "python",
   "pygments_lexer": "ipython3",
   "version": "3.11.7"
  }
 },
 "nbformat": 4,
 "nbformat_minor": 5
}
